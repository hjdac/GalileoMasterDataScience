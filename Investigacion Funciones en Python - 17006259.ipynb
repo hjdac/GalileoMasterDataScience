{
 "cells": [
  {
   "cell_type": "markdown",
   "metadata": {},
   "source": [
    "**Tarea**\n",
    "\n",
    "\n",
    "Funciones: Tambien llamadas sub-rutinas, procedimientos o metodos en otros lenguajes, esta tarea consiste en investigar:\n",
    "\n",
    "1. Funciones en Python: Es un codigo creado con el fin de que realice cierta o ciertas acciones. Es reusable."
   ]
  },
  {
   "cell_type": "code",
   "execution_count": 20,
   "metadata": {},
   "outputs": [
    {
     "name": "stdout",
     "output_type": "stream",
     "text": [
      "56.666666666666664 %\n"
     ]
    }
   ],
   "source": [
    "def profitmargin(revenue, cost):\n",
    "    profit = (revenue-cost)/revenue * 100\n",
    "    print(profit,\"%\")\n",
    "\n",
    "profitmargin(150,65)"
   ]
  },
  {
   "cell_type": "markdown",
   "metadata": {},
   "source": [
    "2. Parametros posisionales: son argumentos que se ingresan a una funcion sin un identificador."
   ]
  },
  {
   "cell_type": "code",
   "execution_count": 21,
   "metadata": {},
   "outputs": [
    {
     "name": "stdout",
     "output_type": "stream",
     "text": [
      "56.666666666666664 %\n"
     ]
    }
   ],
   "source": [
    "profitmargin(150,65)"
   ]
  },
  {
   "cell_type": "markdown",
   "metadata": {},
   "source": [
    "3. Parametros nombrados: son argumentos que se ingresan a una funcion con un identificador."
   ]
  },
  {
   "cell_type": "code",
   "execution_count": 22,
   "metadata": {},
   "outputs": [
    {
     "name": "stdout",
     "output_type": "stream",
     "text": [
      "56.666666666666664 %\n"
     ]
    }
   ],
   "source": [
    "profitmargin(revenue = 150,cost = 65)"
   ]
  },
  {
   "cell_type": "markdown",
   "metadata": {},
   "source": [
    "4. Retorno de multiples valores: En Python se puede hacer funciones que devuelvan multiples valores:"
   ]
  },
  {
   "cell_type": "code",
   "execution_count": 23,
   "metadata": {},
   "outputs": [
    {
     "data": {
      "text/plain": [
       "(85, 0.5666666666666667)"
      ]
     },
     "execution_count": 23,
     "metadata": {},
     "output_type": "execute_result"
    }
   ],
   "source": [
    "def profit_and_profitmargin(revenue, cost):\n",
    "    profit = revenue-cost\n",
    "    profitmargin = (revenue-cost)/revenue\n",
    "    result = (profit, profitmargin)\n",
    "    return result\n",
    "\n",
    "profit_and_profitmargin(150,65)"
   ]
  },
  {
   "cell_type": "markdown",
   "metadata": {},
   "source": [
    "5. Funciones como objetos y como parametros de otras funciones"
   ]
  },
  {
   "cell_type": "code",
   "execution_count": 25,
   "metadata": {},
   "outputs": [
    {
     "name": "stdout",
     "output_type": "stream",
     "text": [
      "High profit Margin\n"
     ]
    }
   ],
   "source": [
    "def profit_analysis(pftmargin):\n",
    "    if pftmargin >= 0.15 :\n",
    "        pft = \"High profit Margin\"\n",
    "    else:\n",
    "        pft = \"Low Profit Margin\"\n",
    "    print(pft)\n",
    "\n",
    "profit_analysis(profit_and_profitmargin(150,35)[1])\n",
    "    "
   ]
  },
  {
   "cell_type": "markdown",
   "metadata": {},
   "source": [
    "6. Funciones anonimas o lambda: Son funciones que se definen sin un nombre. Se utilizan cuando queremos usar funciones que tal vez solo se van a usar una vez. Tambien no necesitan un codigo de return porque se devuelve la expresion."
   ]
  },
  {
   "cell_type": "code",
   "execution_count": 17,
   "metadata": {},
   "outputs": [
    {
     "data": {
      "text/plain": [
       "0.5666666666666667"
      ]
     },
     "execution_count": 17,
     "metadata": {},
     "output_type": "execute_result"
    }
   ],
   "source": [
    "profitmgn = lambda x, y: (x-y)/x\n",
    "profitmgn(150,65)"
   ]
  }
 ],
 "metadata": {
  "kernelspec": {
   "display_name": "Python 3",
   "language": "python",
   "name": "python3"
  },
  "language_info": {
   "codemirror_mode": {
    "name": "ipython",
    "version": 3
   },
   "file_extension": ".py",
   "mimetype": "text/x-python",
   "name": "python",
   "nbconvert_exporter": "python",
   "pygments_lexer": "ipython3",
   "version": "3.7.1"
  }
 },
 "nbformat": 4,
 "nbformat_minor": 2
}
