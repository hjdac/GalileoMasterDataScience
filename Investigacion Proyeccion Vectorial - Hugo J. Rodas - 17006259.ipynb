{
 "cells": [
  {
   "cell_type": "markdown",
   "metadata": {},
   "source": [
    "# Investigacion Proyeccion Vectorial\n",
    "\n",
    "### Proyección vectorial\n",
    "\n",
    "- **Definicion:** La proyeccion vectorial es la proyeccion ortagonal o perpendicular de un vector \"a\" a una linea paralela a la de un vector \"b\".\n",
    "\n",
    "- La proyeccion vectorial de \"a\" sobre \"b\" es igual al producto punto del vector \"a\" y el vector \"b\" divido por el cuadrado punto del vector \"b\" y luego multiplicado punto por el vector \"b\".\n",
    "\n",
    "- **Interpretación:** es la sombra de \"a\" sobre \"b\"\n",
    "\n",
    "\n",
    "- **aplicación o caso de uso en DS u otras ciencias de tu interés: solo se necesita nombrar el caso de uso, no desarrollarlo o programarlo, tip: Hay un algoritmo de ML cuyo nombre puede ser útil:** La proyeccion vectorial se utiliza es face recognition. Utilizando la magnitud de la proyeccion vectorial, se pueden medir la similitud de 2 vectores de imagen de rostro, la imagen de prueba y la imagen de entrenamiento.\n",
    "\n",
    "- **Definir una función para calculo en numpy:**"
   ]
  },
  {
   "cell_type": "code",
   "execution_count": 3,
   "metadata": {},
   "outputs": [],
   "source": [
    "import numpy as np"
   ]
  },
  {
   "cell_type": "code",
   "execution_count": 12,
   "metadata": {},
   "outputs": [
    {
     "name": "stdout",
     "output_type": "stream",
     "text": [
      "[3.14018692 9.42056075 1.04672897 4.18691589]\n"
     ]
    }
   ],
   "source": [
    "# Funcion de \"a\" sobre \"b\"\n",
    "def calculo_proyeccionvectorial(a,b):\n",
    "    top = np.sum(a*b)\n",
    "    bottom = np.sum(b*b)\n",
    "    return (top/bottom)*b\n",
    "\n",
    "a=np.array([8,5,7,9])\n",
    "b=np.array([3,9,1,4])\n",
    "\n",
    "print(calculo_proyeccionvectorial(a,b))"
   ]
  },
  {
   "cell_type": "markdown",
   "metadata": {},
   "source": [
    "### Producto cruz\n",
    "\n",
    "- calculo en numpy:"
   ]
  },
  {
   "cell_type": "code",
   "execution_count": 14,
   "metadata": {},
   "outputs": [
    {
     "data": {
      "text/plain": [
       "array([ 63, -21, -49])"
      ]
     },
     "execution_count": 14,
     "metadata": {},
     "output_type": "execute_result"
    }
   ],
   "source": [
    "c=np.array([5,8,3])\n",
    "d=np.array([8,3,9])\n",
    "\n",
    "np.cross(c,d)"
   ]
  },
  {
   "cell_type": "markdown",
   "metadata": {},
   "source": [
    "- **Interpretación:** es un vector que es perpendicular a \"a\" y a \"b\".\n",
    "\n",
    "\n",
    "- **aplicación o caso de uso en DS u otras ciencias de tu interés: solo se necesita nombrar el caso de uso, no desarrollarlo o programarlo:** El producto cruz se puede utilizar para obtener las coordenadas en la Tierra, en base a las coordenadas que se obtienen del Acelerómetro y Magnetómetro de los celulares."
   ]
  }
 ],
 "metadata": {
  "kernelspec": {
   "display_name": "Python 3",
   "language": "python",
   "name": "python3"
  },
  "language_info": {
   "codemirror_mode": {
    "name": "ipython",
    "version": 3
   },
   "file_extension": ".py",
   "mimetype": "text/x-python",
   "name": "python",
   "nbconvert_exporter": "python",
   "pygments_lexer": "ipython3",
   "version": "3.7.2"
  }
 },
 "nbformat": 4,
 "nbformat_minor": 2
}
