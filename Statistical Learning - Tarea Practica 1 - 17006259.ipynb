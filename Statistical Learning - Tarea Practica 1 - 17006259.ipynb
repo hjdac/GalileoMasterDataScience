{
 "cells": [
  {
   "cell_type": "markdown",
   "metadata": {},
   "source": [
    "# Tarea Practica 1\n",
    "\n",
    "Hugo J. Rodas\n",
    "17006259\n",
    "\n",
    "\n",
    "La tarea 1 consiste en hacer regresión lineal de 1 variable con Tensorflow,usando el dataset de predicción de precios de casas(mismo usado en el curso anterior). La tarea debe cumplir con:\n",
    "* Entregarse por github en un jupyter notebook,subiendo el link de github al GES.\n",
    "* Usar tensorboard para visualizar el grafo del modelo y la curva de aprendizaje(error en el tiempo)\n",
    "* Usar un enfoque de investigacion científica para la selección del learning-rate(mas detalles al final).\n",
    "* Definir un solo grafo pero enviar información variable(como el learning rate) en distintas sesiones a través del diccionario \"feed_dict\".\n",
    "* No es necesario trabajar con datos de validación para esta tarea,pero es permitido hacerlo para quien desee.\n",
    "Para la seleccion del learning rate, debe usarse un enfoque de investigacion científica , esto significa que cada quien debe plantear una o varias hipótesis respecto a lo que cree o espera que pase con los diferentes valores del learning rate a usar(usar: 10,1,0.1,0.01,0.001,0.0001).\n",
    "\n",
    "Estas hipótesis pueden basarlas en lo visto en clase respecto al LR , durante el desarrollo experimentamos con los valores del LR y capturamos los resultados usando tensorboard,sacamos un screenshot de tensorboard para cada valor de lr, los screenshots de tensorboard deben ser agregados en el jupyter notebook en una celda tipo 'markdown' (estos seran la evidencia para aceptar o rechazar las hipótesis) , luego debemos en markdown agregar conclusiones y recomendaciones en base a los resultados.\n"
   ]
  },
  {
   "cell_type": "code",
   "execution_count": 38,
   "metadata": {},
   "outputs": [
    {
     "name": "stdout",
     "output_type": "stream",
     "text": [
      "[[2.085e+05 7.000e+00 8.560e+02 8.000e+00 2.003e+03 6.500e+01]\n",
      " [1.815e+05 6.000e+00 1.262e+03 6.000e+00 1.976e+03 8.000e+01]\n",
      " [2.235e+05 7.000e+00 9.200e+02 6.000e+00 2.001e+03 6.800e+01]\n",
      " [1.400e+05 7.000e+00 9.610e+02 7.000e+00 1.915e+03 6.000e+01]\n",
      " [2.500e+05 8.000e+00 1.145e+03 9.000e+00 2.000e+03 8.400e+01]]\n"
     ]
    }
   ],
   "source": [
    "import numpy as np\n",
    "import tensorflow as tf\n",
    "import seaborn as sns\n",
    "import matplotlib.pyplot as plt\n",
    "from sklearn.linear_model import LinearRegression\n",
    "\n",
    "filename = 'proyecto_training_data.npy'\n",
    "\n",
    "dataset = np.load(filename)\n",
    "print(dataset[:5,:])"
   ]
  },
  {
   "cell_type": "markdown",
   "metadata": {},
   "source": [
    "Separacion del dataset para que:\n",
    "- 80% sea para el entrenamiento, datos de entrenamiento\n",
    "- 20% para validacion, datos de validacion y pruebas"
   ]
  },
  {
   "cell_type": "code",
   "execution_count": 39,
   "metadata": {},
   "outputs": [
    {
     "name": "stdout",
     "output_type": "stream",
     "text": [
      "1460\n"
     ]
    }
   ],
   "source": [
    "lengthdata = len(dataset)\n",
    "\n",
    "train_perc = 0.80\n",
    "valid_perc = 1 - train_perc\n",
    "\n",
    "train_length = int( lengthdata * train_perc)\n",
    "valid_length = int( lengthdata * valid_perc)\n",
    "\n",
    "train_data = dataset[0:train_length,:]\n",
    "valid_data = dataset[train_length:lengthdata,:]\n",
    "\n",
    "print(len(train_data) + len(valid_data))"
   ]
  },
  {
   "cell_type": "markdown",
   "metadata": {},
   "source": [
    "Separacion de train_data en cada variable."
   ]
  },
  {
   "cell_type": "code",
   "execution_count": 40,
   "metadata": {},
   "outputs": [],
   "source": [
    "# Subconjuntos para Entrenamiento\n",
    "SalePrice = train_data[:,0]\n",
    "OverallQual = train_data[:,1]\n",
    "FirstFlrSF = train_data[:,2]\n",
    "TotRmsAbvGrd = train_data[:,3]\n",
    "YearBuilt = train_data[:,4]\n",
    "LotFrontage = train_data[:,5]\n",
    "\n",
    "#Excluyendo nan de LotFrontage para LotFrontage y para SalePrice\n",
    "LotFrontage_exLFnan = LotFrontage[np.logical_not(np.isnan(LotFrontage))]\n",
    "SalePrice_exLFnan = SalePrice[np.logical_not(np.isnan(LotFrontage))]\n",
    "\n",
    "\n",
    "# Subconjuntos para Validacion\n",
    "SalePrice_val = valid_data[:,0]\n",
    "OverallQual_val = valid_data[:,1]\n",
    "FirstFlrSF_val = valid_data[:,2]\n",
    "TotRmsAbvGrd_val = valid_data[:,3]\n",
    "YearBuilt_val = valid_data[:,4]\n",
    "LotFrontage_val = valid_data[:,5]"
   ]
  },
  {
   "cell_type": "markdown",
   "metadata": {},
   "source": [
    "Numero de Observaciones:"
   ]
  },
  {
   "cell_type": "code",
   "execution_count": 41,
   "metadata": {},
   "outputs": [
    {
     "name": "stdout",
     "output_type": "stream",
     "text": [
      "1168\n"
     ]
    }
   ],
   "source": [
    "n = len(OverallQual)\n",
    "print(n)"
   ]
  },
  {
   "cell_type": "markdown",
   "metadata": {},
   "source": [
    "**Calidad en General (OverallQual):**"
   ]
  },
  {
   "cell_type": "code",
   "execution_count": 42,
   "metadata": {},
   "outputs": [
    {
     "data": {
      "image/png": "[encoded data removed]",
      "text/plain": [
       "<Figure size 432x288 with 1 Axes>"
      ]
     },
     "metadata": {
      "needs_background": "light"
     },
     "output_type": "display_data"
    }
   ],
   "source": [
    "sns.distplot(OverallQual,label=\"Calidad en General (OverallQual)\")\n",
    "plt.title(\"Histograma de Calidad en General (OverallQual)\")\n",
    "plt.show()"
   ]
  },
  {
   "cell_type": "markdown",
   "metadata": {},
   "source": [
    "   Creando X y Y que se utilizaran en el optimizador en el entrenamiento."
   ]
  },
  {
   "cell_type": "code",
   "execution_count": 43,
   "metadata": {},
   "outputs": [],
   "source": [
    "X = tf.placeholder(\"float\") \n",
    "Y = tf.placeholder(\"float\") \n"
   ]
  },
  {
   "cell_type": "markdown",
   "metadata": {},
   "source": [
    "Creando las variables para los pesos:"
   ]
  },
  {
   "cell_type": "code",
   "execution_count": 44,
   "metadata": {},
   "outputs": [],
   "source": [
    "W = tf.Variable(np.random.randn(), name = \"W\") \n",
    "b = tf.Variable(np.random.randn(), name = \"b\") \n"
   ]
  },
  {
   "cell_type": "markdown",
   "metadata": {},
   "source": [
    "Hyperparametros: Learning rate y Epochs de entrenamiento"
   ]
  },
  {
   "cell_type": "code",
   "execution_count": 45,
   "metadata": {},
   "outputs": [],
   "source": [
    "LR = 0.01\n",
    "Epochs = 1000\n"
   ]
  },
  {
   "cell_type": "markdown",
   "metadata": {},
   "source": [
    "Hipotesis, funcion de costo, optimizador e iniciador."
   ]
  },
  {
   "cell_type": "code",
   "execution_count": 54,
   "metadata": {},
   "outputs": [],
   "source": [
    "# Modelo Linear \n",
    "y_pred = tf.add(tf.multiply(X, W), b) \n",
    "\n",
    "# Funcion de costos, MSE \n",
    "func_costo = tf.reduce_sum(tf.pow(y_pred-Y, 2)) / (2 * n) \n",
    "\n",
    "# Optimizador\n",
    "optimizador = tf.train.GradientDescentOptimizer(LR).minimize(func_costo) \n",
    "\n",
    "# Iniciador\n",
    "Iniciador = tf.global_variables_initializer() \n"
   ]
  },
  {
   "cell_type": "code",
   "execution_count": null,
   "metadata": {},
   "outputs": [],
   "source": []
  },
  {
   "cell_type": "code",
   "execution_count": 58,
   "metadata": {},
   "outputs": [],
   "source": [
    " \n",
    "with tf.Session() as sess: \n",
    "\n",
    "    # Iniciando variables \n",
    "    sess.run(Iniciador) \n",
    "    \n",
    "    \n",
    "    Costo = sess.run(func_costo, feed_dict ={X: OverallQual, Y: SalePrice}) \n",
    "    pesos = sess.run(W) \n",
    "    sesgo = sess.run(b) \n"
   ]
  },
  {
   "cell_type": "code",
   "execution_count": 59,
   "metadata": {},
   "outputs": [
    {
     "name": "stdout",
     "output_type": "stream",
     "text": [
      "Costo = 19408988000.0\n",
      "Pesos = 0.70066017\n",
      "Sesgo = -0.56709117\n"
     ]
    }
   ],
   "source": [
    "\n",
    "prediccion = pesos * OverallQual + sesgo \n",
    "print(\"Costo =\", Costo)\n",
    "print(\"Pesos =\", pesos)\n",
    "print(\"Sesgo =\", sesgo )\n"
   ]
  },
  {
   "cell_type": "code",
   "execution_count": 60,
   "metadata": {},
   "outputs": [
    {
     "data": {
      "image/png": "[encoded data removed]",
      "text/plain": [
       "<Figure size 432x288 with 1 Axes>"
      ]
     },
     "metadata": {
      "needs_background": "light"
     },
     "output_type": "display_data"
    }
   ],
   "source": [
    "plt.plot(OverallQual, SalePrice, 'ro', label ='Overall Quality (Calidad en General)') \n",
    "plt.plot(OverallQual, prediccion, label ='Linea de Prediccion') \n",
    "plt.title('Resultado') \n",
    "plt.legend() \n",
    "plt.show() \n"
   ]
  },
  {
   "cell_type": "code",
   "execution_count": null,
   "metadata": {},
   "outputs": [],
   "source": []
  },
  {
   "cell_type": "code",
   "execution_count": null,
   "metadata": {},
   "outputs": [],
   "source": []
  }
 ],
 "metadata": {
  "kernelspec": {
   "display_name": "Python 3",
   "language": "python",
   "name": "python3"
  },
  "language_info": {
   "codemirror_mode": {
    "name": "ipython",
    "version": 3
   },
   "file_extension": ".py",
   "mimetype": "text/x-python",
   "name": "python",
   "nbconvert_exporter": "python",
   "pygments_lexer": "ipython3",
   "version": "3.7.2"
  }
 },
 "nbformat": 4,
 "nbformat_minor": 2
}
