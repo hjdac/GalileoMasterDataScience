{
 "cells": [
  {
   "cell_type": "markdown",
   "metadata": {},
   "source": [
    "## Tarea: Investigación: np.matrix vs np.ndarray\n",
    "\n",
    "### Definicion y dimensiones que pueden manejar:\n",
    "\n",
    "Un **np.ndarray** es una estructura de datos del mismo tipo y puede ser de dimensiones de 1 en adelante. Esta indexado por una tupla de enteros no negativos.\n",
    "\n",
    "Un **np.matrix** es una estructura de datos del mismo tipo y solo puede tener 2 dimensiones. Esta indexado por una tupla de enteros no negativos. No se pueden tener vectores, o es una matriz de una columna, o una matriz de una fila.\n"
   ]
  },
  {
   "cell_type": "code",
   "execution_count": 10,
   "metadata": {},
   "outputs": [
    {
     "name": "stdout",
     "output_type": "stream",
     "text": [
      "[[-1  8  9]\n",
      " [-4  3  1]\n",
      " [ 0 -1  6]]\n",
      "[[-1  8  9]\n",
      " [-4  3  1]\n",
      " [ 0 -1  6]]\n"
     ]
    }
   ],
   "source": [
    "import numpy as np\n",
    "\n",
    "arreglo_1 = np.array([[-1,8,9],[-4,3,1],[0,-1,6]])\n",
    "matriz_1 = np.matrix([[-1,8,9],[-4,3,1],[0,-1,6]])\n",
    "\n",
    "\n",
    "print(arreglo_1)\n",
    "print(matriz_1)"
   ]
  },
  {
   "cell_type": "markdown",
   "metadata": {},
   "source": [
    "### Con respecto a la multiplicacion:\n",
    "\n",
    "En un arreglo:\n",
    "- la muliplicacion  *****  multiplica elemento por elemento\n",
    "\n",
    "- la funcion **@** es una multiplicacion matricial\n",
    "\n",
    "En una matriz:\n",
    "- la muliplicacion *****  es una multiplicacion matricial.\n",
    "\n",
    "- la funcion **multiply()** multiplica elemento por elemento"
   ]
  },
  {
   "cell_type": "code",
   "execution_count": 8,
   "metadata": {},
   "outputs": [
    {
     "name": "stdout",
     "output_type": "stream",
     "text": [
      "[[ 1 64 81]\n",
      " [16  9  1]\n",
      " [ 0  1 36]]\n",
      "[[-31   7  53]\n",
      " [ -8 -24 -27]\n",
      " [  4  -9  35]]\n",
      "[[ 1 64 81]\n",
      " [16  9  1]\n",
      " [ 0  1 36]]\n",
      "[[-31   7  53]\n",
      " [ -8 -24 -27]\n",
      " [  4  -9  35]]\n"
     ]
    }
   ],
   "source": [
    "print(arreglo_1 * arreglo_1)\n",
    "print(arreglo_1 @ arreglo_1)\n",
    "\n",
    "\n",
    "print(np.multiply(matriz_1 ,matriz_1))\n",
    "print(matriz_1 * matriz_1)"
   ]
  },
  {
   "cell_type": "markdown",
   "metadata": {},
   "source": [
    "### Atributos de Conveniencia\n",
    "\n",
    "Un np.ndarray tiene un atributo T., que devuelve la transpuesta de la data.\n",
    "\n",
    "Un np.matrix tiene atributos .H (transpuesta), .I (inversa), y .A (asarray() ) de la matriz."
   ]
  },
  {
   "cell_type": "code",
   "execution_count": 9,
   "metadata": {},
   "outputs": [
    {
     "name": "stdout",
     "output_type": "stream",
     "text": [
      "np.array\n",
      "[[-1 -4  0]\n",
      " [ 8  3 -1]\n",
      " [ 9  1  6]]\n",
      "np.matrix\n",
      "[[-1 -4  0]\n",
      " [ 8  3 -1]\n",
      " [ 9  1  6]]\n",
      "[[ 0.09090909 -0.27272727 -0.09090909]\n",
      " [ 0.11483254 -0.02870813 -0.16746411]\n",
      " [ 0.01913876 -0.00478469  0.13875598]]\n",
      "[[-1  8  9]\n",
      " [-4  3  1]\n",
      " [ 0 -1  6]]\n"
     ]
    }
   ],
   "source": [
    "print(\"np.array\")\n",
    "print(arreglo_1.T)\n",
    "\n",
    "print(\"np.matrix\")\n",
    "print(matriz_1.H)\n",
    "\n",
    "print(matriz_1.I)\n",
    "\n",
    "print(matriz_1.A)"
   ]
  },
  {
   "cell_type": "markdown",
   "metadata": {},
   "source": [
    "**Bibliografia:**\n",
    "\n",
    "- https://www.numpy.org/devdocs/user/numpy-for-matlab-users.html#array-or-matrix-which-should-i-use\n",
    "\n",
    "- https://www.datacamp.com/community/tutorials/python-numpy-tutorial\n",
    "\n",
    "- http://cs231n.github.io/python-numpy-tutorial/\n",
    "\n",
    "- https://stackoverflow.com/questions/4151128/what-are-the-differences-between-numpy-arrays-and-matrices-which-one-should-i-u"
   ]
  }
 ],
 "metadata": {
  "kernelspec": {
   "display_name": "Python 3",
   "language": "python",
   "name": "python3"
  },
  "language_info": {
   "codemirror_mode": {
    "name": "ipython",
    "version": 3
   },
   "file_extension": ".py",
   "mimetype": "text/x-python",
   "name": "python",
   "nbconvert_exporter": "python",
   "pygments_lexer": "ipython3",
   "version": "3.7.2"
  }
 },
 "nbformat": 4,
 "nbformat_minor": 2
}
