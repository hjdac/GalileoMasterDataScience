{
 "cells": [
  {
   "cell_type": "markdown",
   "metadata": {},
   "source": [
    "# Vectores, operaciones vectoriales básicas y Universal functions\n",
    "\n"
   ]
  },
  {
   "cell_type": "markdown",
   "metadata": {},
   "source": [
    "Como cientificos de datos en algunos casos requeriremos crear nuestras propias funciones y es recomendable que se apeguen a las ufuncs, es decir que se puedan aplicar independiente de la dimensión del objeto al que se aplican, que soporten broadcasting y muy importante **que su definición evite ciclos y use operaciones vectorizadas y otras ufuncs** ."
   ]
  },
  {
   "cell_type": "code",
   "execution_count": 33,
   "metadata": {},
   "outputs": [],
   "source": [
    "import numpy as np"
   ]
  },
  {
   "cell_type": "markdown",
   "metadata": {},
   "source": [
    "## Ejercicio 1\n",
    "En data science y programación científica es común necesitar vectores con valores dentro de cierto intervalo, pero con sub-intervalos internos con diference espaciamiento ,por ejemplo:\n",
    "\n",
    "[0.  , 0.1 , 0.2 , 0.3 , 0.4 , 0.5 , 0.51, 0.52, 0.53, 0.54, 0.55,\n",
    "       0.56, 0.57, 0.58, 0.59, 0.6 , 0.7 , 0.8 , 0.9 , 1.  ]\n",
    "       \n",
    "El primer sub-intervalo incrementa de 0.1 en 0.1 , el segundo de 0.01 en 0.01 , y el tercero de 0.1 en 0.1 nuevamente.\n",
    "\n",
    "Usando unicamente NumPy crea un vector de este tipo con el nombre xs .\n",
    "\n",
    "**nota**: no es permitido usar ciclos, debe realizarse con operaciones \"vectorizadas\" de numpy"
   ]
  },
  {
   "cell_type": "code",
   "execution_count": 35,
   "metadata": {},
   "outputs": [
    {
     "data": {
      "text/plain": [
       "array([0.  , 0.1 , 0.2 , 0.3 , 0.4 , 0.5 , 0.51, 0.52, 0.53, 0.54, 0.55,\n",
       "       0.56, 0.57, 0.58, 0.59, 0.6 , 0.7 , 0.8 , 0.9 , 1.  ])"
      ]
     },
     "execution_count": 35,
     "metadata": {},
     "output_type": "execute_result"
    }
   ],
   "source": [
    "## tu codigo aqui (~ 4 lineas de codigo)\n",
    "ar1 = np.linspace(0,0.5,6,endpoint=True,retstep=False)\n",
    "ar2 = np.linspace(ar1[len(ar1)-1]+.01,0.6,10,endpoint=True,retstep=False)\n",
    "ar3 = np.linspace(ar2[len(ar2)-1]+.1,1,4,endpoint=True,retstep=False)\n",
    "\n",
    "np.hstack((ar1,ar2,ar3))"
   ]
  },
  {
   "cell_type": "markdown",
   "metadata": {},
   "source": [
    "## Ejercicio 2\n",
    "Suavizado de curvas a través de promedios de n-puntos(medias móviles):\n",
    "\n",
    "<img src=\"https://www.luisllamas.es/wp-content/uploads/2017/03/arduino-filtro-media-movil-ventana-5.png\">\n",
    "\n",
    "En el mundo la data comunmente posee \"ruido\" por lo cual muchas veces antes de hacer análisis o modelado se necesita \"suavizar\" las curvas para reducir este ruido, una técnica muy sencilla es  el suavizado por promedio de n-puntos(también llamado media móvil), esto significa que para cada punto Xn obtenemos una versión transformada(suavizada) que consiste en promediar n puntos cercanos a el, por ejemplo para n= 3 tenemos que:\n",
    "\n",
    "$$XS_{n}  =  \\frac{X_{n-1}+X_{n}+X_{n+1}}{3}$$"
   ]
  },
  {
   "cell_type": "code",
   "execution_count": 36,
   "metadata": {},
   "outputs": [
    {
     "name": "stdout",
     "output_type": "stream",
     "text": [
      "[ 0.05343141  0.33022413  0.76603025  0.95806951  0.95943995  0.75751511\n",
      "  0.55737752 -0.04117625 -0.3905892  -0.66824927 -0.99827186 -0.98552097\n",
      " -0.61978501 -0.43332861 -0.19813494]\n",
      "[ 0.05343141  0.38322859  0.68477463  0.89451324  0.89167486  0.75811086\n",
      "  0.42457213  0.04187069 -0.36667157 -0.68570345 -0.88401404 -0.86785928\n",
      " -0.67954486 -0.41708285 -0.19813494]\n"
     ]
    }
   ],
   "source": [
    "# las siguientes 3 lineas generan un conjunto de datos que se comportan segun una onda senoidal pero tienen\n",
    "# ruido por lo cual vamos a suavizar usando promedio de 3 puntos\n",
    "# en este ejercicio los generamos manualmente pero pensemos que son datos que pudieron ser generados con algún\n",
    "# instrumento como un sensor, o bien estar almacenados en una base de datos\n",
    "ruido = 0.1*np.random.randn(15) #el ruido comunmente se debe a aleatoriedad o captura no exacta de info.\n",
    "x = np.linspace(0,2*np.pi,15) + ruido\n",
    "x = np.sin(x)\n",
    "\n",
    "#xs es \"x suavizado\", inicialmente es una copia de x\n",
    "xs =  x.copy()\n",
    "\n",
    "for n in range(1,len(x)-1):\n",
    "    xs[n] = (x[n-1] + x[n] + x[n+1])/3\n",
    "    \n",
    "print(x)\n",
    "print(xs)"
   ]
  },
  {
   "cell_type": "markdown",
   "metadata": {},
   "source": [
    "En este caso usamos un ciclo  para ejemplificar pero ya hemos mencionado que debemos evitarlos siempre que sea posible y usar operaciones \"vectorizadas\" ya que es mucho mas rápido al utilizar  código pre-compilado de C, en este ejercicio debemos remplazar el calculo de xs para hacerlo de manera \"vectorizada\" y eliminar el ciclo for. \n",
    "\n",
    "**tip**: usar slicing"
   ]
  },
  {
   "cell_type": "code",
   "execution_count": 45,
   "metadata": {},
   "outputs": [
    {
     "name": "stdout",
     "output_type": "stream",
     "text": [
      "[ 0.05343141  0.38322859  0.68477463  0.89451324  0.89167486  0.75811086\n",
      "  0.42457213  0.04187069 -0.36667157 -0.68570345 -0.88401404 -0.86785928\n",
      " -0.67954486 -0.41708285 -0.19813494]\n",
      "[ 0.05343141  0.38322859  0.68477463  0.89451324  0.89167486  0.75811086\n",
      "  0.42457213  0.04187069 -0.36667157 -0.68570345 -0.88401404 -0.86785928\n",
      " -0.67954486 -0.41708285 -0.19813494]\n"
     ]
    },
    {
     "data": {
      "text/plain": [
       "array([ True,  True,  True,  True,  True,  True,  True,  True,  True,\n",
       "        True,  True,  True,  True,  True,  True])"
      ]
     },
     "execution_count": 45,
     "metadata": {},
     "output_type": "execute_result"
    }
   ],
   "source": [
    "# Poniendo este codigo como texto porque el array ya fue creado en\n",
    "# el codigo anterior y si no, mi comprobacion no da lo mismo.\n",
    "# ruido = 0.1*np.random.randn(15) \n",
    "# x = np.linspace(0,2*np.pi,15) + ruido\n",
    "# x = np.sin(x)\n",
    "\n",
    "# xs es \"x suavizado\", inicialmente es una copia de x\n",
    "# xs =  x.copy()\n",
    "\n",
    "## tu codigo aqui (~ 1 linea):\n",
    "num = 3\n",
    "\n",
    "# La funcion Movave() funciona para arrays de cualquier largo, pero solo para \"n\"s impares\n",
    "\n",
    "def movave(array,nume):\n",
    "    begend = int((nume - 1)/2)\n",
    "    final_array = np.hstack((array[0:begend],((array[begend:(len(array)-begend)] + array[0:(len(array)-begend*2)] + array[(begend*2):(len(array))]) / 3),array[(len(array)-begend):len(array)]))\n",
    "    return final_array\n",
    "\n",
    "print(movave(x,num))\n",
    "\n",
    "print(xs)\n",
    "\n",
    "movave(x,num) == xs"
   ]
  },
  {
   "cell_type": "markdown",
   "metadata": {},
   "source": [
    "## Ejercicio 3\n",
    "\n",
    "NumPy posee logaritmos naturales , base 2 y base 10 , crear una *ufunc* que calcule el logaritmo en cualquier base n dada, la funcion debe recibir el tensor al cual calcular el logaritmo elemento por elemento y la base del logaritmo a calcular, por ejemplo:\n",
    "\n",
    "`def logaritmo_n(x,n):`"
   ]
  },
  {
   "cell_type": "code",
   "execution_count": 38,
   "metadata": {},
   "outputs": [
    {
     "data": {
      "text/plain": [
       "array([1.43067656, 2.07041507, 2.22656551])"
      ]
     },
     "execution_count": 38,
     "metadata": {},
     "output_type": "execute_result"
    }
   ],
   "source": [
    "## tu codigo aqui:\n",
    "def logaritmo_n(x,n):\n",
    "    return np.log(x) / np.log(n)\n",
    "\n",
    "logaritmo_n([10,28,36],5)\n"
   ]
  },
  {
   "cell_type": "markdown",
   "metadata": {},
   "source": [
    "## Ejercicio 4\n",
    "Para calcular la información de una distribución de probabilidad necesitamos calcular el producto entre la información de cada posible $x$ y su probabilidad, cada uno de estos elementos nos indica cuanta incerteza aporta cada $x$ a la entropía de la distribución. \n",
    "\n",
    "Para completar este ejercicio hay que crear una función que calcule lo descrito anteriormente, debe recibir un vector representando a la dist. de probabilidad y devoler otro vector con el termino de entropía para cada $x$.\n",
    "\n",
    "Por ejemplo:\n",
    "\n",
    "`calcular_entropia([0.25,0.75])`\n",
    "\n",
    "Debe resultar en :\n",
    "\n",
    "$[0.5    ,    0.31127812]$\n",
    "\n",
    "**Nota**: la entropía es la suma sobre estos valores, en este caso no calculamos la entropía,unicamente los termimos de su sumatoria. La entropía es:\n",
    "\n",
    "$$S = -\\sum_i^nP(x_{i})log_{2}P(x_{i})$$"
   ]
  },
  {
   "cell_type": "code",
   "execution_count": 39,
   "metadata": {},
   "outputs": [
    {
     "name": "stdout",
     "output_type": "stream",
     "text": [
      "[0.5        0.31127812]\n"
     ]
    }
   ],
   "source": [
    "## tu codigo aqui (~ 2 lineas de codigo)\n",
    "vect = ([0.25,0.75])\n",
    "\n",
    "def calcular_entropia(vectp):\n",
    "    vecto = vectp * np.log2(vectp) * -1\n",
    "    return vecto\n",
    "\n",
    "print(calcular_entropia(vect))\n"
   ]
  },
  {
   "cell_type": "markdown",
   "metadata": {},
   "source": [
    "## Ejercicio 5\n",
    "\n",
    "A partir de la información en un data warehouse se ha generado un modelo de datos, el valor de los clientes en el tiempo se ha determinado un modelo predictivo  no lineal que estima cuanta ganancia ha generado cierto cliente en 5 años en base a lo que ha gastado en su primer mes como cliente. \n",
    "\n",
    "El modelo tiene la forma:\n",
    "\n",
    "$$g(x) = (x^{3} + 2x^{2} + e^{0.0001x} -\\sqrt{2x})/50$$\n",
    "\n",
    "Crear una función que calcule la ganancia para valores de gasto de nuevos clientes:"
   ]
  },
  {
   "cell_type": "code",
   "execution_count": 40,
   "metadata": {},
   "outputs": [
    {
     "name": "stdout",
     "output_type": "stream",
     "text": [
      "Ganancias [20399.73735829  2599.82010025   337.37862871]\n"
     ]
    }
   ],
   "source": [
    "def g(x):\n",
    "    ganancia = (np.power(x,3) + 2.0*(np.power(x,2.0))+np.exp(0.0001*x) - np.sqrt(2.0*x))/50\n",
    "    \n",
    "    return ganancia\n",
    "    \n",
    "gastos = np.array([100,50,25])\n",
    "ganancia = g(gastos)\n",
    "\n",
    "print(\"Ganancias\",ganancia)"
   ]
  },
  {
   "cell_type": "markdown",
   "metadata": {},
   "source": [
    "Se ha determinado también que hay costos asociados a la comunicación y relación con los clientes(llamadas,mensajes electrónicos,etc) y que estos también tienen alta correlación con el monto que estos gastan en su primer més siguiendo el modelo:\n",
    "$$c(x) = (x^{2} + x + log (0.0001x)-\\sqrt{0.54x})/100$$\n",
    "\n",
    "Cree una función para calcular este modelo sobre valores de de gasto de nuevos clientes , y luego cree una función  **ganancia_neta(x,g,c)** donde:\n",
    "* x = vector conteniendo los valores de gasto del primer mes para nuevos clientes.\n",
    "* g = función que estima la ganancia en función de x\n",
    "* c = función que estima el costo en función de x\n",
    "\n",
    "La función realiza el calculo simple **g(x) - c(x)** , ya que es posible que los modelos cambien en el tiempo es común recibir como parámetro el modelo o modelos hijos de un modelo mas grande , en este caso eso se logra recibiendo como parámetro las funciones de ganancia y costo."
   ]
  },
  {
   "cell_type": "code",
   "execution_count": 41,
   "metadata": {},
   "outputs": [
    {
     "name": "stdout",
     "output_type": "stream",
     "text": [
      "Costos:  [100.90651531  25.42502818   6.43723705]\n",
      "Ganancia Neta:  [20298.83084298  2574.39507207   330.94139165]\n",
      "[20298.83084298  2574.39507207   330.94139165]\n"
     ]
    },
    {
     "data": {
      "text/plain": [
       "True"
      ]
     },
     "execution_count": 41,
     "metadata": {},
     "output_type": "execute_result"
    }
   ],
   "source": [
    "## tu codigo aqui :\n",
    "#Funcion para Costos\n",
    "\n",
    "def c(x):\n",
    "    costos = (np.power(x,2) + x + np.log10(0.0001*x) - np.sqrt(0.54*x))/100\n",
    "    \n",
    "    return costos\n",
    "\n",
    "costo = c(gastos)\n",
    "\n",
    "print(\"Costos: \",costo)\n",
    "\n",
    "\n",
    "#Funcion para Ganancia Neta\n",
    "\n",
    "def gan_neta(x,g,c):\n",
    "    ganan_neta = g(x) - c(x)\n",
    "    return ganan_neta\n",
    "\n",
    "ganancia_neta = gan_neta(gastos,g,c)\n",
    "\n",
    "print(\"Ganancia Neta: \",ganancia_neta) == print(ganancia-costo)\n"
   ]
  },
  {
   "cell_type": "markdown",
   "metadata": {},
   "source": [
    "# Funciones miscelaneas(agregación y estadistica descriptiva básica) \n",
    "\n",
    "Ya hemos trabajado algunas funciones de NumPy pero han sido funciones \"elementwise\" cuyo vector resultante tiene el mismo tamaño que el vector de entrada, existen muchas otras funciones que utilizamos en casos en los que necesitamos agregar,resumir cierto vector,incluyendo en este tipo de funciones algunas de estadistica descriptiva básica."
   ]
  },
  {
   "cell_type": "markdown",
   "metadata": {},
   "source": [
    "## Ejercicio 6\n",
    "Usando argmax crear una función `mode(x)` para calcular la moda de un vector $x$, esta función debe devolver una tupla de 2 elementos de la forma:\n",
    "\n",
    "(valor,conteo)\n",
    "\n",
    "**tip** investigar y auxiliarse de otras funciones de numpy y np.argmax, no olvidar trabajar todo vectorizado, sin ciclos."
   ]
  },
  {
   "cell_type": "code",
   "execution_count": 42,
   "metadata": {},
   "outputs": [
    {
     "name": "stdout",
     "output_type": "stream",
     "text": [
      "(-0.9982718642604294, 1.0)\n"
     ]
    }
   ],
   "source": [
    "def mode(x):\n",
    "    ## tu codigo aqui (~ 3 lineas de codigo):\n",
    "    info_data = np.unique(x,return_index=True,return_counts=True)\n",
    "    index_of_mode = np.argmax(info_data[2])\n",
    "    return np.array(info_data)[0,index_of_mode],np.array(info_data)[2,index_of_mode]\n",
    "print(mode(x))"
   ]
  },
  {
   "cell_type": "markdown",
   "metadata": {},
   "source": [
    "## Ejercicio 7\n",
    "Crear una función para calcular la entropía  de una distribución de probabilidad representada como un vector.\n",
    "$$S = -\\sum_i^nP(x_{i})log_{2}P(x_{i})$$\n",
    "\n",
    "**Nota**: a diferencia del ejercicio anterior donde solo calculamos los términos de la entropía, en este caso  si calculamos el valor completo de la entropía, que como mencionamos es una medida de incerteza en una distribución de probabilidad.\n",
    "\n",
    "**recordatorio**: no usar ciclos solo operaciones vectorizadas."
   ]
  },
  {
   "cell_type": "code",
   "execution_count": 43,
   "metadata": {},
   "outputs": [
    {
     "name": "stdout",
     "output_type": "stream",
     "text": [
      "0.8112781244591328\n"
     ]
    }
   ],
   "source": [
    "# tu codigo aqui (~ 3 lineas de codigo)\n",
    "def calc_entropia(w):\n",
    "    vecto = w * np.log2(w) * -1\n",
    "    return np.sum(vecto)\n",
    "\n",
    "print(calc_entropia(vect))"
   ]
  }
 ],
 "metadata": {
  "kernelspec": {
   "display_name": "Python 3",
   "language": "python",
   "name": "python3"
  },
  "language_info": {
   "codemirror_mode": {
    "name": "ipython",
    "version": 3
   },
   "file_extension": ".py",
   "mimetype": "text/x-python",
   "name": "python",
   "nbconvert_exporter": "python",
   "pygments_lexer": "ipython3",
   "version": "3.7.2"
  }
 },
 "nbformat": 4,
 "nbformat_minor": 2
}
