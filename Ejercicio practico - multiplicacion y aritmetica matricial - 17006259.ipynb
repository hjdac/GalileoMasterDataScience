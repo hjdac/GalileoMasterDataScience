{
 "cells": [
  {
   "cell_type": "markdown",
   "metadata": {},
   "source": [
    "# Ejercicio Practico: Multiplicacion y Aritmetica Matricial\n",
    "\n",
    "Hugo J. Rodas\n",
    "\n",
    "\n",
    "17006259"
   ]
  },
  {
   "cell_type": "code",
   "execution_count": 15,
   "metadata": {},
   "outputs": [],
   "source": [
    "import numpy as np"
   ]
  },
  {
   "cell_type": "markdown",
   "metadata": {},
   "source": [
    "### Multiplicación Matricial \n",
    "\n",
    "Una de las operaciones mas importantes tanto en matemáticas como en ciencias de la computación y ciencia de datos y también una de las mas comunes es la multiplicación matricial, que podemos conceptualizar de 2 maneras:\n",
    "\n",
    "* **Matriz por vector**\n",
    "* **Matriz por matriz**\n",
    "\n",
    "Esta es una operación sumamente utilizada e importante y es diferente de las que hasta ahora habiamos visto: **operaciones elemento por elemento** por lo cual NO ES IGUAL QUE EL PRODUCTO HADAMARD.\n",
    "\n",
    "El producto matricial **AxB** solo esta definido para pares de matrices que cumplen con la propiedad de que el número de columnas de A sea igual que el número de filas de B. El resultado es una nueva matriz cuyo numero de filas es igual al número de filas de A y el número de columnas es igual al número de columnas de B\n",
    "\n",
    "<img src=\"https://www.geogebra.org/resource/jyFms9hh/gWfr05GxoKt6c3JS/material-jyFms9hh.png\">\n",
    "\n",
    "La forma de calcular la multiplicación matricial AxB se basa en el producto punto, para la matriz de resultado C el elemento en la fila \"i\" y columna \"j\" consiste en el producto punto entre la fila \"i\" de A y la columna \"j\" de B.\n",
    "\n",
    "Por lo cual contrario a lo que muchos creen, la multiplicación matricial **NO ES LO MISMO QUE EL PRODUCTO PUNTO** pero si lo utiliza ,la matriz resultante es una matriz de productos punto.\n",
    "\n",
    "<img src=\"https://www.mathsisfun.com/algebra/images/matrix-multiply-a.svg\">"
   ]
  },
  {
   "cell_type": "code",
   "execution_count": 37,
   "metadata": {},
   "outputs": [
    {
     "data": {
      "text/plain": [
       "array([[ 5],\n",
       "       [11]])"
      ]
     },
     "execution_count": 37,
     "metadata": {},
     "output_type": "execute_result"
    }
   ],
   "source": [
    "A = np.array([[1,2],   #matriz 2x2\n",
    "              [3,4]])\n",
    "B = np.array([[1],    # vector 2x1\n",
    "              [2]])\n",
    "\n",
    "np.matmul(A,B) #numero de cols de A debe ser igual al numero de filas de B ,resultado 2x1"
   ]
  },
  {
   "cell_type": "code",
   "execution_count": 38,
   "metadata": {},
   "outputs": [
    {
     "data": {
      "text/plain": [
       "array([[ 1, 12,  7],\n",
       "       [ 4, 33, 22],\n",
       "       [ 7, 54, 37]])"
      ]
     },
     "execution_count": 38,
     "metadata": {},
     "output_type": "execute_result"
    }
   ],
   "source": [
    "A = np.array([[1,2], #matriz de 3x2\n",
    "              [4,5],\n",
    "              [7,8]])\n",
    "B = np.array([[1,2,3], #matriz de 2x3\n",
    "              [0,5,2]])\n",
    "\n",
    "np.matmul(A,B) #resutlado de 3x3"
   ]
  },
  {
   "cell_type": "code",
   "execution_count": 39,
   "metadata": {},
   "outputs": [
    {
     "name": "stdout",
     "output_type": "stream",
     "text": [
      "[[ 58  64]\n",
      " [139 154]]\n"
     ]
    }
   ],
   "source": [
    "A = np.array([[1,2,3], #matriz 2x3\n",
    "              [4,5,6]])\n",
    "B = np.array([[7,8],  #matriz 3x2\n",
    "              [9,10],\n",
    "              [11,12]])\n",
    "C = np.matmul(A,B) #matriz de resultado 2x2\n",
    "\n",
    "print(C)"
   ]
  },
  {
   "cell_type": "markdown",
   "metadata": {},
   "source": [
    "\n",
    "\n",
    "**Ejemplo en DS** : en inteligencia artificial y ML en la sub-rama \"reinforcement learning\" la \"ecuacion de bellman\" puede aplicarse de manera vectorizada a traves del operar vectores, matrices y escalares en una sola expresion.\n",
    "\n",
    "<img src=\"https://rebornhugo.github.io/assets/images/post_images/%E5%BC%BA%E5%8C%96%E5%AD%A6%E4%B9%A02/bellman%20equation2.PNG\">\n",
    "\n",
    "* n = numero de estados del sistema.\n",
    "* V(s) = vector que representa el valor esperado para cierto estado\n",
    "* R = recompensa inmediata percibida por el agente al salir de cierto estado.(vector)\n",
    "* P = matriz de transicion de la cadena de Markov sub-yacente.(matriz)\n",
    "* γ = factor de descuento de recompensas futuras(escalar)\n",
    "\n",
    "Calcular V(s) para el siguiente sistema aplicando la ecuación de bellman de manera vectorizada."
   ]
  },
  {
   "cell_type": "code",
   "execution_count": 30,
   "metadata": {},
   "outputs": [
    {
     "name": "stdout",
     "output_type": "stream",
     "text": [
      "[10.  2.  5.]\n"
     ]
    }
   ],
   "source": [
    "V = np.array([0,0,0]) # valor inicial de V(s)\n",
    "R = np.array([10,2,5]) # vector de recompensas\n",
    "P = np.array([[0.5,0.25,0.25],\n",
    "              [0.2,0.40,0.40],\n",
    "              [0.80,0.10,0.10]])  # matriz de transición\n",
    "gamma = 0.99\n",
    "\n",
    "V_s = R + gamma * np.matmul(P,V)\n",
    "\n",
    "print(V_s)\n"
   ]
  },
  {
   "cell_type": "markdown",
   "metadata": {},
   "source": [
    "**Ejercicio aplicado en DS**\n",
    "Se tiene una red neuronal sencilla(y simplificada) como la de la siguiente imagen:\n",
    "<img src=\"https://www.oreilly.com/library/view/practical-convolutional-neural/9781788392303/assets/246151fb-7893-448d-b9bb-7a87b387a24b.png\">\n",
    "\n",
    "Donde:\n",
    "* INPUT LAYER: un vector X de tamaño = 2 que representa los datos de entrada\n",
    "* HIDDEN_LAYER :capa oculta con 2 neuronas definidas por los vectores:\n",
    "    * HL1 = [0.25,0.37]\n",
    "    * HL2 = [-8,14]\n",
    "* OUTPUT_LAYER = capa de salida definida por el vector [4,9]\n",
    "\n",
    "Crear una funcion neural_network(X) para calcular:\n",
    "* Calcule la salida de cada neurona en la capa intermedia aplicada a la capa de entrada.\n",
    "* Use el resultado del paso anterior como entrada para la neurona en la capa de salida\n",
    "\n",
    "Utilizando multiplicacion de matrices se debe calcular para cada fila de la matriz de entrada X el valor de las neuronas de la capa intermedia, esto producira una nueva matriz con el mismo numero de filas que X y 2 columnas(1 para cada neurona) , a  los valores de esta matriz se les debe aplicar la funcion \"sigmoid\"(descrita a continuacion) para limitarlos al intervalo de 0 a 1, esto produce una matriz del mismo tamanio pero con valores entre 0 a 1, esta matriz se multiplica matricialmente por la matriz que representa los pesos de la capa de salida  y este proceso produce un nuevo tensor al cual se debe aplicar nuevamente la funcion sigmoid. El resultado debe ser un tensor con el mismo numero de filas que la matriz X y una sola columna(una prediccion para cada fila de X\n",
    "\n",
    "<img src=\"https://cdn-images-1.medium.com/max/1600/1*Xu7B5y9gp0iL5ooBj7LtWw.png\">"
   ]
  },
  {
   "cell_type": "code",
   "execution_count": 16,
   "metadata": {},
   "outputs": [],
   "source": [
    "def sigmoid(x): #convertir los valores de x al rango de 0 a 1\n",
    "    \n",
    "    return 1/(1+np.exp(-x))"
   ]
  },
  {
   "cell_type": "code",
   "execution_count": 31,
   "metadata": {},
   "outputs": [
    {
     "name": "stdout",
     "output_type": "stream",
     "text": [
      "[[ 0.25 -8.  ]\n",
      " [ 0.37 14.  ]]\n",
      "[[4]\n",
      " [9]]\n",
      "[[0.1 0.2]\n",
      " [1.  2. ]]\n",
      "[[0.52472981 0.88079708]\n",
      " [0.72908792 1.        ]]\n",
      "[[0.99995577]\n",
      " [0.99999332]]\n"
     ]
    }
   ],
   "source": [
    "H1_W = np.array([[0.25,-8],\n",
    "                 [0.37,14]])\n",
    "OL_W = np.array([[4],[9]])\n",
    "\n",
    "X =  np.array([[0.1,0.2],\n",
    "               [1,2]])\n",
    "\n",
    "print(H1_W)\n",
    "print(OL_W)\n",
    "print(X)\n",
    "\n",
    "H1 = np.matmul(X,H1_W)\n",
    "H1 = sigmoid(H1)  # funcion de activacion: convertir a valores en el intervalo de 0 a 1\n",
    "OL = np.matmul(H1,OL_W)\n",
    "OL = sigmoid(OL)  # funcion de activacion: convertir a valores en el intervalo de 0 a 1\n",
    "\n",
    "print(H1)\n",
    "print(OL)"
   ]
  },
  {
   "cell_type": "markdown",
   "metadata": {},
   "source": [
    "### Ejercicio \n",
    "\n",
    "Implementar en una funcion neural_network(X) la red neuronal definida por la siguiente arquitectura:\n",
    "\n",
    "<img src=\"http://i.imgur.com/UNlffE1.png\">\n",
    "\n",
    "Podemos validar si fue correctamente implementada si usamos como entrada el vector x=[1,1] . Debemos obtener el resultado mostrado en la imagen.\n",
    "\n",
    "Una vez tenemos la implementacion correcta, cambiar la funcion de activacion de la capa de salida por la funcion de activacion ReLu(https://en.wikipedia.org/wiki/Rectifier_(neural_networks)):\n",
    "\n",
    "<img src=\"https://cdn-images-1.medium.com/max/1600/1*DfMRHwxY1gyyDmrIAd-gjQ.png\">\n",
    "\n",
    "Luego evaluar la red neuronal sobre la matriz de datos X(de manera vectorizada):"
   ]
  },
  {
   "cell_type": "code",
   "execution_count": 32,
   "metadata": {},
   "outputs": [
    {
     "name": "stdout",
     "output_type": "stream",
     "text": [
      "[0.69269553]\n"
     ]
    }
   ],
   "source": [
    "def neural_network(X):\n",
    "    \n",
    "    HL1 = np.array([0.712,0.112])\n",
    "    HL2 = np.array([0.355,0.855])\n",
    "    HL3 = np.array([0.268,0.468])\n",
    "    OL = np.array([0.116,0.329,0.708])\n",
    "    N1 = np.matmul(X,HL1)\n",
    "    N2 = np.matmul(X,HL2)\n",
    "    N3 = np.matmul(X,HL3)\n",
    "    \n",
    "    Hidden_Layer = np.array([N1,N2,N3])\n",
    "    Hidden_Layer = sigmoid(Hidden_Layer)\n",
    "    \n",
    "    Output_Layer = np.matmul(OL,Hidden_Layer)\n",
    "    Output_Layer = sigmoid(Output_Layer)\n",
    "    return Output_Layer\n",
    "\n",
    "prr = np.array([[1,1]])\n",
    "\n",
    "print(neural_network(prr))"
   ]
  },
  {
   "cell_type": "code",
   "execution_count": 33,
   "metadata": {},
   "outputs": [
    {
     "name": "stdout",
     "output_type": "stream",
     "text": [
      "[0.70244573 0.66259284 0.75933678 0.75973948 0.75802295 0.6739704\n",
      " 0.75954693 0.76005845 0.75952743 0.76005845]\n"
     ]
    }
   ],
   "source": [
    "X = np.array([\n",
    "    [0.1,2],\n",
    "    [0.3,0.45],\n",
    "    [5,9],\n",
    "    [12,6],\n",
    "    [7,5],\n",
    "    [0.3,0.8],\n",
    "    [12,5],\n",
    "    [100,200],\n",
    "    [7,8],\n",
    "    [300,1500]])\n",
    "\n",
    "print(neural_network(X))"
   ]
  },
  {
   "cell_type": "markdown",
   "metadata": {},
   "source": [
    "### Broadcasting\n",
    "\n",
    "Python utiliza un mecanismo conocido como **\"broadcasting\"** para algunas operaciones cuando el tamaño de los operandos no coincide, por ejemplo el caso de una suma entre una matriz y un vector, broadcasting \"expande\"(siempre que sea posible) el vector para que tenga la misma forma que la matriz replicando el vector cuantas veces sea necesario para tener la misma forma y luego aplica la operacion **\"elementwise\"** (elemento a elemento).\n",
    "\n",
    "Para cuando se trabaja con matrices y una matriz A se opera con algún vector B broadcasting busca replicar o copiar el vector las veces que sea necesario para obtener una matriz del mismo tamaño , por ejemplo si se tiene una matriz de tamaño 4x5 , y un vector de 4 elementos, broadcasting creará una matriz que consiste en copiar el vector de 4 elementos 5 veces.\n",
    "\n",
    "Broadcasting no funciona en casos donde las dimensiones no son compatibles, por ejemplo para el caso anterior, broadcasting no  hubiera funcionado si el vector tuviera 3 elementos y hubiera resultado en un error: **operands could not be broadcast together with shapes ... **\n",
    "\n",
    "* https://www.youtube.com/watch?v=YrOrAcMjFB4\n",
    "* https://docs.scipy.org/doc/numpy/user/basics.broadcasting.html"
   ]
  },
  {
   "cell_type": "code",
   "execution_count": 40,
   "metadata": {
    "collapsed": true
   },
   "outputs": [],
   "source": [
    "matriz = np.array([[1,2,3,10],  #matriz de 3x4\n",
    "                   [4,5,6,11],\n",
    "                   [7,8,9,12]])\n",
    "colum_vector = np.array(  # vector orientado columnarmente\n",
    "                  [1,\n",
    "                   2,\n",
    "                   3]).reshape((3,1))\n",
    "row_vector = np.array([1,2,3,4]).reshape((1,4)) # vector orientado por filas"
   ]
  },
  {
   "cell_type": "code",
   "execution_count": 41,
   "metadata": {},
   "outputs": [
    {
     "name": "stdout",
     "output_type": "stream",
     "text": [
      "(3, 4)\n",
      "(3, 1)\n",
      "(1, 4)\n"
     ]
    }
   ],
   "source": [
    "print(matriz.shape)\n",
    "print(colum_vector.shape)\n",
    "print(row_vector.shape)"
   ]
  },
  {
   "cell_type": "code",
   "execution_count": 42,
   "metadata": {},
   "outputs": [
    {
     "data": {
      "text/plain": [
       "array([[ 2,  3,  4, 11],\n",
       "       [ 6,  7,  8, 13],\n",
       "       [10, 11, 12, 15]])"
      ]
     },
     "execution_count": 42,
     "metadata": {},
     "output_type": "execute_result"
    }
   ],
   "source": [
    "matriz + colum_vector #operación no definida matemáticamente pero posible con broadcasting"
   ]
  },
  {
   "cell_type": "code",
   "execution_count": 43,
   "metadata": {},
   "outputs": [
    {
     "data": {
      "text/plain": [
       "array([[ 2,  4,  6, 14],\n",
       "       [ 5,  7,  9, 15],\n",
       "       [ 8, 10, 12, 16]])"
      ]
     },
     "execution_count": 43,
     "metadata": {},
     "output_type": "execute_result"
    }
   ],
   "source": [
    "matriz + row_vector #operación no definida matemáticamente pero posible con broadcasting"
   ]
  },
  {
   "cell_type": "code",
   "execution_count": 44,
   "metadata": {},
   "outputs": [
    {
     "data": {
      "text/plain": [
       "array([[0, 1, 2, 9],\n",
       "       [2, 3, 4, 9],\n",
       "       [4, 5, 6, 9]])"
      ]
     },
     "execution_count": 44,
     "metadata": {},
     "output_type": "execute_result"
    }
   ],
   "source": [
    "matriz - colum_vector #operación no definida matemáticamente pero posible con broadcasting "
   ]
  },
  {
   "cell_type": "code",
   "execution_count": 45,
   "metadata": {},
   "outputs": [
    {
     "data": {
      "text/plain": [
       "array([[ 1,  4,  9, 40],\n",
       "       [ 4, 10, 18, 44],\n",
       "       [ 7, 16, 27, 48]])"
      ]
     },
     "execution_count": 45,
     "metadata": {},
     "output_type": "execute_result"
    }
   ],
   "source": [
    "matriz * row_vector #operación no definida matemáticamente pero posible con broadcasting"
   ]
  },
  {
   "cell_type": "code",
   "execution_count": 46,
   "metadata": {
    "collapsed": true
   },
   "outputs": [],
   "source": [
    "colum_vector = np.array(  # vector orientado columnarmente\n",
    "                  [1,\n",
    "                   2,\n",
    "                   3,\n",
    "                   4]).reshape((4,1))\n",
    "# la siguiente linea intentaa operar una matriz de 3x4 con un vector incompatible de 4x1 resultando en error\n",
    "#matriz + colum_vector"
   ]
  },
  {
   "cell_type": "markdown",
   "metadata": {},
   "source": [
    "### Funciones miscelaneas(agregación y estadistica descriptiva básica) \n",
    "\n",
    "Ya hemos trabajado algunas funciones de NumPy pero han sido funciones \"elementwise\" cuyo vector resultante tiene el mismo tamaño que el vector de entrada, existen muchas otras funciones que utilizamos en casos en los que necesitamos agregar,resumir cierta matriz,incluyendo en este tipo de funciones algunas de estadistica descriptiva básica.\n",
    "\n",
    "En esta sección estudiamos funciones ya estudiadas previamente con vectores ,pero como veremos podemos configurar su comportamiento para lograr comportamientos específicos para matrices.\n",
    "\n",
    "Podemos utilizar un segundo parámetro llamado **axis** para especificar sobre que dimensión o eje del vector queremos operar, para el caso de matrices podemos hacerlo por:\n",
    "\n",
    "* axis = 0 : filas,calcula la función deseada a traves de filas y devuelve para cada columna un resultado, el resultado es un vector cuyo tamaño es igual al numero de columnas de la matriz original.\n",
    "* axis = 1 : columnas,calcula la función deseada a traves de columnas ,y devuelve para cada fila un resultado,el resultado es un vector cuyo tamaño es igual al numero de de filas de la matriz original.\n",
    "* axis = None: si especificamos axis = None ( o no lo especificamos) el  comportamiento es similar al caso de vectores, se obtiene un único resultado(escalar) para todo el tensor\n",
    "\n",
    "<img src=\"https://vrzkj25a871bpq7t1ugcgmn9-wpengine.netdna-ssl.com/wp-content/uploads/2018/11/numpy-arrays-have-axes.png\">\n",
    "\n",
    "<img src=\"https://vrzkj25a871bpq7t1ugcgmn9-wpengine.netdna-ssl.com/wp-content/uploads/2018/12/numpy-axes-np-sum-axis-0.png\">"
   ]
  },
  {
   "cell_type": "code",
   "execution_count": 47,
   "metadata": {
    "collapsed": true
   },
   "outputs": [],
   "source": [
    "x = np.array([[1,2,3,4,5],\n",
    "              [6,7,8,9,2]])\n",
    "\n",
    "x_nan = np.array([[1,2,3,4,np.nan],\n",
    "                  [6,8,2,2,16]])"
   ]
  },
  {
   "cell_type": "markdown",
   "metadata": {},
   "source": [
    "Si no especificamos el parametro axis, el comportamiento es similar al obtenido con vectores."
   ]
  },
  {
   "cell_type": "code",
   "execution_count": 48,
   "metadata": {},
   "outputs": [
    {
     "name": "stdout",
     "output_type": "stream",
     "text": [
      "9\n",
      "9\n",
      "nan\n",
      "9\n",
      "16.0\n"
     ]
    }
   ],
   "source": [
    "print(np.max(x))\n",
    "print(x.max())\n",
    "print(np.max(x_nan))\n",
    "print(np.nanmax(x))\n",
    "print(np.nanmax(x_nan))"
   ]
  },
  {
   "cell_type": "code",
   "execution_count": 49,
   "metadata": {},
   "outputs": [
    {
     "name": "stdout",
     "output_type": "stream",
     "text": [
      "Maximo de cada fíla de x a traves de las columnas:\n",
      "[5 9]\n",
      "Maximo de cada cada columna de x a traves de las filas:\n",
      "[6 7 8 9 5]\n",
      "Maximo de cada cada columna de x_nan a traves de las filas:\n",
      "[  6.   8.   3.   4.  nan]\n",
      "Maximo ignorando nans de cada fíla de x a traves de las columnas:\n",
      "[5 9]\n",
      "Maximo de cada fila a traves de columnas de x_nan,ignorando nans:\n",
      "[  4.  16.]\n"
     ]
    }
   ],
   "source": [
    "#al usar axis con matrices que contienen nan se obtiene nan solo en la fila o columna que posea valores nan\n",
    "#siimlar al caso de vectores podemos usar nanmax para ignorar nans\n",
    "\n",
    "print(\"Maximo de cada fíla de x a traves de las columnas:\")\n",
    "print(np.max(x,axis = 1))\n",
    "print(\"Maximo de cada cada columna de x a traves de las filas:\")\n",
    "print(x.max(axis=0))\n",
    "print(\"Maximo de cada cada columna de x_nan a traves de las filas:\")\n",
    "print(np.max(x_nan,axis=0))\n",
    "print(\"Maximo ignorando nans de cada fíla de x a traves de las columnas:\")\n",
    "print(np.nanmax(x,axis=1))\n",
    "print(\"Maximo de cada fila a traves de columnas de x_nan,ignorando nans:\")\n",
    "print(np.nanmax(x_nan,axis=1))"
   ]
  },
  {
   "cell_type": "code",
   "execution_count": 50,
   "metadata": {},
   "outputs": [
    {
     "name": "stdout",
     "output_type": "stream",
     "text": [
      "Minimo general de la matriz x:\n",
      "1\n",
      "Minimo general ignorando valores nan de la matriz x_nan:\n",
      "4\n",
      "Minimo de cada fíla de x a traves de las columnas:\n",
      "[1 2]\n",
      "Minimo de cada cada columna de x a traves de las filas:\n",
      "[1 2 3 4 2]\n",
      "Minimo de cada cada columna de x_nan a traves de las filas:\n",
      "[  1.   2.   2.   2.  nan]\n",
      "Minimo ignorando nans de cada fíla de x a traves de las columnas:\n",
      "[1 2]\n",
      "Minimo de cada fila a traves de columnas de x_nan,ignorando nans:\n",
      "[ 1.  2.]\n"
     ]
    }
   ],
   "source": [
    "#al usar axis con matrices que contienen nan se obtiene nan solo en la fila o columna que posea valores nan\n",
    "#siimlar al caso de vectores podemos usar nanmin para ignorar nans\n",
    "\n",
    "print(\"Minimo general de la matriz x:\")\n",
    "print(np.min(x))\n",
    "print(\"Minimo general ignorando valores nan de la matriz x_nan:\")\n",
    "print(np.argmin(x_nan))\n",
    "print(\"Minimo de cada fíla de x a traves de las columnas:\")\n",
    "print(np.min(x,axis = 1))\n",
    "print(\"Minimo de cada cada columna de x a traves de las filas:\")\n",
    "print(x.min(axis=0))\n",
    "print(\"Minimo de cada cada columna de x_nan a traves de las filas:\")\n",
    "print(np.min(x_nan,axis=0))\n",
    "print(\"Minimo ignorando nans de cada fíla de x a traves de las columnas:\")\n",
    "print(np.nanmin(x,axis=1))\n",
    "print(\"Minimo de cada fila a traves de columnas de x_nan,ignorando nans:\")\n",
    "print(np.nanmin(x_nan,axis=1))"
   ]
  },
  {
   "cell_type": "markdown",
   "metadata": {},
   "source": [
    "#### argmax y argmin para matrices\n",
    "\n",
    "Al estudiar vectores las funciones argmax y argmin nos proveian una forma de encontrar la posición(o indice) del valor máximo o mínimo del vector. Para matrices debemos especificar el comportamiento deseado nuevamente a través del parametro axis, cuando este es 0 o 1 el comportamiento es similar al ya visto previamente, pero cuando este no es especificado o se usa el valor None necesitamos poner atención al comportamiento: **La matriz es interpretada como un vector obtenido al colapsar todas las filas de la matriz** y argmax,argmin se comportarán como si se aplicaran sobre este vector."
   ]
  },
  {
   "cell_type": "code",
   "execution_count": 51,
   "metadata": {},
   "outputs": [
    {
     "name": "stdout",
     "output_type": "stream",
     "text": [
      "[[ 4  6  9]\n",
      " [ 2  1 11]]\n"
     ]
    }
   ],
   "source": [
    "x = np.array([[4,6,9],\n",
    "              [2,1,11]])\n",
    "print(x)"
   ]
  },
  {
   "cell_type": "code",
   "execution_count": 52,
   "metadata": {},
   "outputs": [
    {
     "name": "stdout",
     "output_type": "stream",
     "text": [
      "[1 1 0]\n",
      "[2 1 9]\n"
     ]
    }
   ],
   "source": [
    "print(np.argmin(x,axis=0))\n",
    "print(x.min(axis=0))"
   ]
  },
  {
   "cell_type": "code",
   "execution_count": 53,
   "metadata": {},
   "outputs": [
    {
     "name": "stdout",
     "output_type": "stream",
     "text": [
      "[2 2]\n",
      "[ 9 11]\n"
     ]
    }
   ],
   "source": [
    "print(np.argmax(x,axis=1))\n",
    "print(x.max(axis=1))"
   ]
  },
  {
   "cell_type": "code",
   "execution_count": 54,
   "metadata": {},
   "outputs": [
    {
     "name": "stdout",
     "output_type": "stream",
     "text": [
      "4 5\n"
     ]
    }
   ],
   "source": [
    "print(np.argmin(x),np.argmax(x))"
   ]
  },
  {
   "cell_type": "markdown",
   "metadata": {},
   "source": [
    "El resultado de aplicar argmin y argmax sobre la matriz sin especificar el axis es equivalente a el siguiente código:"
   ]
  },
  {
   "cell_type": "code",
   "execution_count": 55,
   "metadata": {},
   "outputs": [
    {
     "data": {
      "text/plain": [
       "array([ 4,  6,  9,  2,  1, 11])"
      ]
     },
     "execution_count": 55,
     "metadata": {},
     "output_type": "execute_result"
    }
   ],
   "source": [
    "x_vector = np.reshape(x,-1)\n",
    "\n",
    "x_vector"
   ]
  },
  {
   "cell_type": "code",
   "execution_count": 56,
   "metadata": {},
   "outputs": [
    {
     "name": "stdout",
     "output_type": "stream",
     "text": [
      "4 5\n"
     ]
    }
   ],
   "source": [
    "print(np.argmin(x_vector),np.argmax(x_vector))"
   ]
  },
  {
   "cell_type": "markdown",
   "metadata": {},
   "source": [
    "#### suma,producto(normal y acumulativa) para matrices.\n",
    "\n",
    "Nuevamente tenemos en el caso de matrices funciones que también existian en vectores y que pueden ser configuradas para trabajar a través de filas,columnas o general a través del parámetro axis, en este caso tratamos con suma y producto a través de las filas(axis=0), columnas(axis=1) o sobre toda la matriz(axis=None)"
   ]
  },
  {
   "cell_type": "code",
   "execution_count": 57,
   "metadata": {},
   "outputs": [
    {
     "name": "stdout",
     "output_type": "stream",
     "text": [
      "[[ 4  6  9]\n",
      " [ 2  1 11]]\n"
     ]
    }
   ],
   "source": [
    "x = np.array([[4,6,9],\n",
    "              [2,1,11]])\n",
    "print(x)"
   ]
  },
  {
   "cell_type": "code",
   "execution_count": 58,
   "metadata": {},
   "outputs": [
    {
     "name": "stdout",
     "output_type": "stream",
     "text": [
      "Dos formas de obtener la suma de todos los elementos de la matriz x:\n",
      "33\n",
      "33\n",
      "Si aplicamos sum() sobre una matriz con al menos un elemento 'nan' el resultado es nan:\n",
      "nan\n",
      "Para ignorar valores 'nan' y sumar el resto podemos usar nansum() en lugar de sum():\n",
      "44.0\n"
     ]
    }
   ],
   "source": [
    "print(\"Dos formas de obtener la suma de todos los elementos de la matriz x:\")\n",
    "print(np.sum(x))\n",
    "print(x.sum())\n",
    "print(\"Si aplicamos sum() sobre una matriz con al menos un elemento 'nan' el resultado es nan:\")\n",
    "print(np.sum(x_nan))\n",
    "print(\"Para ignorar valores 'nan' y sumar el resto podemos usar nansum() en lugar de sum():\")\n",
    "print(np.nansum(x_nan))"
   ]
  },
  {
   "cell_type": "code",
   "execution_count": 59,
   "metadata": {},
   "outputs": [
    {
     "name": "stdout",
     "output_type": "stream",
     "text": [
      "[ 6  7 20]\n",
      "[19 14]\n",
      "[  7.  10.   5.   6.  nan]\n",
      "[ 10.  34.]\n"
     ]
    }
   ],
   "source": [
    "print(np.sum(x,axis=0))\n",
    "print(x.sum(axis=1))\n",
    "print(np.sum(x_nan,axis=0))\n",
    "print(np.nansum(x_nan,axis=1))"
   ]
  },
  {
   "cell_type": "code",
   "execution_count": 60,
   "metadata": {},
   "outputs": [
    {
     "name": "stdout",
     "output_type": "stream",
     "text": [
      "4752\n",
      "4752\n",
      "nan\n",
      "73728.0\n"
     ]
    }
   ],
   "source": [
    "print(np.prod(x))\n",
    "print(x.prod())\n",
    "print(np.prod(x_nan))\n",
    "print(np.nanprod(x_nan))"
   ]
  },
  {
   "cell_type": "markdown",
   "metadata": {},
   "source": [
    "## Variables categoricas/discretas\n",
    "\n",
    "Hasta ahora hemos trabajado con numpy exclusivamente usando variables numericas y continuas y hemos dejado por un lado variables categoricas y/o discretas ,pero es necesario tambien poder trabajar con este tipo de variables ya que estan presentes en muchos problemas y por lo tanto en muchos sets de datos.\n",
    "\n",
    "La razon por la cual hemos dejado de lado estas ,es que en programacion numerica/cientifica(y por lo tanto en ciencia de datos) las variables categoricas y discretas son de cualquier manera convertidas a un equivalente numerico  y este equivalente numerico es usado posteriormenta para analisis,modelado,simulacion, etc. \n",
    "\n",
    "La representacion numerica equivalente para una variable categorica  se llama de manera general : **embedding** , y hay multiples tipos de embedding asi como formas y metodos de calcularlos, una familia muy comun es la familia **2vec** por ejemplo:\n",
    "\n",
    "* **word2vec** : convierte una palabra a un vector.\n",
    "* **sentence2vec**: convierte una oracion o frase en un vector.\n",
    "* **doc2vec** : convierte un documento completo en un vector.\n",
    "\n",
    "<img src = \"https://cdn-images-1.medium.com/max/2400/1*2r1yj0zPAuaSGZeQfG6Wtw.png\">\n",
    "\n",
    "<img src =\"https://samyzaf.com/ML/nlp/word2vec2.png\">\n",
    "\n",
    "<img src =\"https://cdn-images-1.medium.com/max/1600/1*e9fy52nkSy9A9AIN3WZSpw.png\">\n",
    "\n",
    "\n",
    "Debido a la influencia y alta relacion entre ciencia de datos,machine learning, etc y ciencias basicas como matematica y estadistica , es comun toparse con otros terminos con origen estadistico ,por ejemplo: **variables dummy** que nos llevan a la misma idea: **una representacion numerica de una variable categorica y/o discreta**.\n",
    "\n",
    "En data science y machine learning, el tipo mas comun y conocido es:\n",
    "\n",
    "### one-hot encoding\n",
    "\n",
    "One-hot encoding consiste en convertir una variable categorica a un vector de 0s y 1s, el vector tiene tantos elementos como posibles valores pueda tomar la variable y se asigna 1 a la posicion del vector que representa la categoria \"presente\" en cierta observacion y 0 en el resto. Esto queda mejor explicado bajo un ejemplo:\n",
    "\n",
    "<img src=\"https://cdn-images-1.medium.com/max/1600/0*T5jaa2othYfXZX9W.\">\n",
    "\n",
    "<img src=\"https://naadispeaks.files.wordpress.com/2018/04/mtimfxh.png?w=471&h=151\">\n",
    "\n",
    "La implementacion en Python puede hacerse de diversas formas y hay paquetes como Tensorflow o Pytorch que nos permiten  hacerlo sobre sus tensores usando funciones pre-definidas, cuando se usa NumPy podemos auxiliarnos  de una matriz identidad para lograrlo."
   ]
  },
  {
   "cell_type": "code",
   "execution_count": 66,
   "metadata": {},
   "outputs": [
    {
     "name": "stdout",
     "output_type": "stream",
     "text": [
      "Vector con numero de categoria:\n",
      "[0 1 2]\n",
      "Equivalente one-hot encoding:\n",
      "[[ 1.  0.  0.]\n",
      " [ 0.  1.  0.]\n",
      " [ 0.  0.  1.]]\n"
     ]
    }
   ],
   "source": [
    "categorias = [\"manzana\",\"pollo\",\"brocoli\"]\n",
    "numero_categorias = len(categorias)\n",
    "\n",
    "numero_categoria = np.array([0,1,2])\n",
    "categoria_one_hot = np.identity(numero_categorias)[numero_categoria]\n",
    "\n",
    "print(\"Vector con numero de categoria:\")\n",
    "print(numero_categoria)\n",
    "print(\"Equivalente one-hot encoding:\")\n",
    "print(categoria_one_hot)"
   ]
  },
  {
   "cell_type": "code",
   "execution_count": 67,
   "metadata": {},
   "outputs": [
    {
     "name": "stdout",
     "output_type": "stream",
     "text": [
      "Vector con numero de categoria:\n",
      "[0 0 1 2 1]\n",
      "Equivalente one-hot encoding:\n",
      "[[ 1.  0.  0.]\n",
      " [ 1.  0.  0.]\n",
      " [ 0.  1.  0.]\n",
      " [ 0.  0.  1.]\n",
      " [ 0.  1.  0.]]\n"
     ]
    }
   ],
   "source": [
    "categorias = [\"rojo\",\"amarillo\",\"verde\"]\n",
    "numero_categorias = len(categorias)\n",
    "\n",
    "numero_categoria = np.array([0,0,1,2,1])\n",
    "categoria_one_hot = np.identity(numero_categorias)[numero_categoria]\n",
    "\n",
    "print(\"Vector con numero de categoria:\")\n",
    "print(numero_categoria)\n",
    "print(\"Equivalente one-hot encoding:\")\n",
    "print(categoria_one_hot)"
   ]
  },
  {
   "cell_type": "code",
   "execution_count": null,
   "metadata": {
    "collapsed": true
   },
   "outputs": [],
   "source": []
  }
 ],
 "metadata": {
  "kernelspec": {
   "display_name": "Python 3",
   "language": "python",
   "name": "python3"
  },
  "language_info": {
   "codemirror_mode": {
    "name": "ipython",
    "version": 3
   },
   "file_extension": ".py",
   "mimetype": "text/x-python",
   "name": "python",
   "nbconvert_exporter": "python",
   "pygments_lexer": "ipython3",
   "version": "3.7.2"
  }
 },
 "nbformat": 4,
 "nbformat_minor": 2
}
